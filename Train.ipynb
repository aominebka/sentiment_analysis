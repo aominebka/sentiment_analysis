{
  "nbformat": 4,
  "nbformat_minor": 0,
  "metadata": {
    "colab": {
      "name": "Train.ipynb",
      "provenance": [],
      "collapsed_sections": [],
      "toc_visible": true
    },
    "kernelspec": {
      "name": "python3",
      "display_name": "Python 3"
    },
    "accelerator": "GPU"
  },
  "cells": [
    {
      "cell_type": "code",
      "metadata": {
        "id": "G1X_qjDIMgXa",
        "colab_type": "code",
        "outputId": "93ff0c46-0c27-492b-b02d-4083734242f5",
        "colab": {
          "base_uri": "https://localhost:8080/",
          "height": 35
        }
      },
      "source": [
        "import numpy as np\n",
        "from tensorflow.contrib import learn\n",
        "\n",
        "from keras.preprocessing import sequence\n",
        "from keras.models import Sequential\n",
        "from keras.layers import Dense, Dropout, Activation\n",
        "from keras.layers import Embedding\n",
        "from keras.layers import LSTM\n",
        "from keras.layers import Conv1D, MaxPooling1D"
      ],
      "execution_count": 0,
      "outputs": [
        {
          "output_type": "stream",
          "text": [
            "Using TensorFlow backend.\n"
          ],
          "name": "stderr"
        }
      ]
    },
    {
      "cell_type": "markdown",
      "metadata": {
        "id": "OHilaIfdjmb4",
        "colab_type": "text"
      },
      "source": [
        "# download glove twitter data\n"
      ]
    },
    {
      "cell_type": "code",
      "metadata": {
        "id": "2ysuU1wTfGSx",
        "colab_type": "code",
        "outputId": "942084ae-9b8c-4775-df99-6f15f80f7083",
        "colab": {
          "base_uri": "https://localhost:8080/",
          "height": 52
        }
      },
      "source": [
        "from google_drive_downloader import GoogleDriveDownloader as gdd\n",
        "gdd.download_file_from_google_drive(file_id='1EYPs1jjOYqe46gBDAreFCtXjGhKqxZKI', dest_path='./glove.zip', unzip=True)"
      ],
      "execution_count": 0,
      "outputs": [
        {
          "output_type": "stream",
          "text": [
            "Downloading 1EYPs1jjOYqe46gBDAreFCtXjGhKqxZKI into ./glove.zip... Done.\n",
            "Unzipping...Done.\n"
          ],
          "name": "stdout"
        }
      ]
    },
    {
      "cell_type": "code",
      "metadata": {
        "id": "kT9RzgDrc7yb",
        "colab_type": "code",
        "outputId": "86463667-ee01-4aa8-e9e9-52d26691a1e2",
        "colab": {
          "base_uri": "https://localhost:8080/",
          "height": 1000
        }
      },
      "source": [
        "!pip install import-ipynb\n",
        "import import_ipynb\n",
        "# Install the PyDrive wrapper & import libraries.\n",
        "# This only needs to be done once per notebook.\n",
        "!pip install -U -q PyDrive\n",
        "from pydrive.auth import GoogleAuth\n",
        "from pydrive.drive import GoogleDrive\n",
        "from google.colab import auth\n",
        "from oauth2client.client import GoogleCredentials\n",
        "\n",
        "# Authenticate and create the PyDrive client.\n",
        "# This only needs to be done once per notebook.\n",
        "auth.authenticate_user()\n",
        "gauth = GoogleAuth()\n",
        "gauth.credentials = GoogleCredentials.get_application_default()\n",
        "drive = GoogleDrive(gauth)\n",
        "\n",
        "# Copy the link and remove the front part of the link (i.e. https://drive.google.com/open?id=) to get the file ID.\n",
        "your_module = drive.CreateFile({'id':'1Sh3IHhb3HW-0nNPBkKln4GmRGPuEqR6s'})\n",
        "your_module.GetContentFile('processingdata.ipynb')\n",
        "import processingdata"
      ],
      "execution_count": 0,
      "outputs": [
        {
          "output_type": "stream",
          "text": [
            "Collecting import-ipynb\n",
            "  Downloading https://files.pythonhosted.org/packages/63/35/495e0021bfdcc924c7cdec4e9fbb87c88dd03b9b9b22419444dc370c8a45/import-ipynb-0.1.3.tar.gz\n",
            "Building wheels for collected packages: import-ipynb\n",
            "  Building wheel for import-ipynb (setup.py) ... \u001b[?25l\u001b[?25hdone\n",
            "  Created wheel for import-ipynb: filename=import_ipynb-0.1.3-cp36-none-any.whl size=2975 sha256=c293a8092e46299364765683ab646fc627596287d988f6c572892c27eaca6cf8\n",
            "  Stored in directory: /root/.cache/pip/wheels/b4/7b/e9/a3a6e496115dffdb4e3085d0ae39ffe8a814eacc44bbf494b5\n",
            "Successfully built import-ipynb\n",
            "Installing collected packages: import-ipynb\n",
            "Successfully installed import-ipynb-0.1.3\n",
            "importing Jupyter notebook from processingdata.ipynb\n",
            "Downloading 1FNl79LtBEnhXx4NKoPubwThERuZC6WtP into ./Sentiment Analysis Dataset.zip... Done.\n",
            "Unzipping...Done.\n",
            "Downloading 1ZXLowlLD161FlvLwcBjZ4TqAHxmiiket into ./processda1.zip... Done.\n",
            "Unzipping...Done.\n",
            "The following additional packages will be installed:\n",
            "  aspell aspell-en dictionaries-common emacsen-common hunspell-en-us\n",
            "  libaspell15 libenchant1c2a libhunspell-1.6-0 libtext-iconv-perl\n",
            "Suggested packages:\n",
            "  aspell-doc spellutils wordlist hunspell openoffice.org-hunspell\n",
            "  | openoffice.org-core libenchant-voikko\n",
            "The following NEW packages will be installed:\n",
            "  aspell aspell-en dictionaries-common emacsen-common enchant hunspell-en-us\n",
            "  libaspell15 libenchant1c2a libhunspell-1.6-0 libtext-iconv-perl\n",
            "0 upgraded, 10 newly installed, 0 to remove and 8 not upgraded.\n",
            "Need to get 1,300 kB of archives.\n",
            "After this operation, 5,353 kB of additional disk space will be used.\n",
            "Preconfiguring packages ...\n",
            "Selecting previously unselected package libtext-iconv-perl.\n",
            "(Reading database ... 131183 files and directories currently installed.)\n",
            "Preparing to unpack .../0-libtext-iconv-perl_1.7-5build6_amd64.deb ...\n",
            "Unpacking libtext-iconv-perl (1.7-5build6) ...\n",
            "Selecting previously unselected package libaspell15:amd64.\n",
            "Preparing to unpack .../1-libaspell15_0.60.7~20110707-4_amd64.deb ...\n",
            "Unpacking libaspell15:amd64 (0.60.7~20110707-4) ...\n",
            "Selecting previously unselected package emacsen-common.\n",
            "Preparing to unpack .../2-emacsen-common_2.0.8_all.deb ...\n",
            "Unpacking emacsen-common (2.0.8) ...\n",
            "Selecting previously unselected package dictionaries-common.\n",
            "Preparing to unpack .../3-dictionaries-common_1.27.2_all.deb ...\n",
            "Adding 'diversion of /usr/share/dict/words to /usr/share/dict/words.pre-dictionaries-common by dictionaries-common'\n",
            "Unpacking dictionaries-common (1.27.2) ...\n",
            "Selecting previously unselected package aspell.\n",
            "Preparing to unpack .../4-aspell_0.60.7~20110707-4_amd64.deb ...\n",
            "Unpacking aspell (0.60.7~20110707-4) ...\n",
            "Selecting previously unselected package aspell-en.\n",
            "Preparing to unpack .../5-aspell-en_2017.08.24-0-0.1_all.deb ...\n",
            "Unpacking aspell-en (2017.08.24-0-0.1) ...\n",
            "Selecting previously unselected package hunspell-en-us.\n",
            "Preparing to unpack .../6-hunspell-en-us_1%3a2017.08.24_all.deb ...\n",
            "Unpacking hunspell-en-us (1:2017.08.24) ...\n",
            "Selecting previously unselected package libhunspell-1.6-0:amd64.\n",
            "Preparing to unpack .../7-libhunspell-1.6-0_1.6.2-1_amd64.deb ...\n",
            "Unpacking libhunspell-1.6-0:amd64 (1.6.2-1) ...\n",
            "Selecting previously unselected package libenchant1c2a:amd64.\n",
            "Preparing to unpack .../8-libenchant1c2a_1.6.0-11.1_amd64.deb ...\n",
            "Unpacking libenchant1c2a:amd64 (1.6.0-11.1) ...\n",
            "Selecting previously unselected package enchant.\n",
            "Preparing to unpack .../9-enchant_1.6.0-11.1_amd64.deb ...\n",
            "Unpacking enchant (1.6.0-11.1) ...\n",
            "Setting up libhunspell-1.6-0:amd64 (1.6.2-1) ...\n",
            "Setting up libaspell15:amd64 (0.60.7~20110707-4) ...\n",
            "Setting up emacsen-common (2.0.8) ...\n",
            "Processing triggers for libc-bin (2.27-3ubuntu1) ...\n",
            "Setting up libtext-iconv-perl (1.7-5build6) ...\n",
            "Processing triggers for man-db (2.8.3-2ubuntu0.1) ...\n",
            "Setting up dictionaries-common (1.27.2) ...\n",
            "Setting up aspell (0.60.7~20110707-4) ...\n",
            "Setting up hunspell-en-us (1:2017.08.24) ...\n",
            "Setting up libenchant1c2a:amd64 (1.6.0-11.1) ...\n",
            "Setting up aspell-en (2017.08.24-0-0.1) ...\n",
            "Setting up enchant (1.6.0-11.1) ...\n",
            "Processing triggers for dictionaries-common (1.27.2) ...\n",
            "aspell-autobuildhash: processing: en [en-common].\n",
            "aspell-autobuildhash: processing: en [en-variant_0].\n",
            "aspell-autobuildhash: processing: en [en-variant_1].\n",
            "aspell-autobuildhash: processing: en [en-variant_2].\n",
            "aspell-autobuildhash: processing: en [en-w_accents-only].\n",
            "aspell-autobuildhash: processing: en [en-wo_accents-only].\n",
            "aspell-autobuildhash: processing: en [en_AU-variant_0].\n",
            "aspell-autobuildhash: processing: en [en_AU-variant_1].\n",
            "aspell-autobuildhash: processing: en [en_AU-w_accents-only].\n",
            "aspell-autobuildhash: processing: en [en_AU-wo_accents-only].\n",
            "aspell-autobuildhash: processing: en [en_CA-variant_0].\n",
            "aspell-autobuildhash: processing: en [en_CA-variant_1].\n",
            "aspell-autobuildhash: processing: en [en_CA-w_accents-only].\n",
            "aspell-autobuildhash: processing: en [en_CA-wo_accents-only].\n",
            "aspell-autobuildhash: processing: en [en_GB-ise-w_accents-only].\n",
            "aspell-autobuildhash: processing: en [en_GB-ise-wo_accents-only].\n",
            "aspell-autobuildhash: processing: en [en_GB-ize-w_accents-only].\n",
            "aspell-autobuildhash: processing: en [en_GB-ize-wo_accents-only].\n",
            "aspell-autobuildhash: processing: en [en_GB-variant_0].\n",
            "aspell-autobuildhash: processing: en [en_GB-variant_1].\n",
            "aspell-autobuildhash: processing: en [en_US-w_accents-only].\n",
            "aspell-autobuildhash: processing: en [en_US-wo_accents-only].\n",
            "Processing triggers for libc-bin (2.27-3ubuntu1) ...\n",
            "Collecting pyenchant\n",
            "\u001b[?25l  Downloading https://files.pythonhosted.org/packages/9e/54/04d88a59efa33fefb88133ceb638cdf754319030c28aadc5a379d82140ed/pyenchant-2.0.0.tar.gz (64kB)\n",
            "\u001b[K     |████████████████████████████████| 71kB 2.8MB/s \n",
            "\u001b[?25hBuilding wheels for collected packages: pyenchant\n",
            "  Building wheel for pyenchant (setup.py) ... \u001b[?25l\u001b[?25hdone\n",
            "  Created wheel for pyenchant: filename=pyenchant-2.0.0-cp36-none-any.whl size=71113 sha256=659f2d08a1c5c011bdff4b149999f1052497d7a94ba8ca13500fc88595d8a297\n",
            "  Stored in directory: /root/.cache/pip/wheels/ee/8e/01/f427e9c6c0ae5e22095f3d2aac8997abe7b317307a9de497f4\n",
            "Successfully built pyenchant\n",
            "Installing collected packages: pyenchant\n",
            "Successfully installed pyenchant-2.0.0\n",
            "Collecting regex\n",
            "\u001b[?25l  Downloading https://files.pythonhosted.org/packages/ff/60/d9782c56ceefa76033a00e1f84cd8c586c75e6e7fea2cd45ee8b46a386c5/regex-2019.08.19-cp36-cp36m-manylinux1_x86_64.whl (643kB)\n",
            "\u001b[K     |████████████████████████████████| 645kB 2.8MB/s \n",
            "\u001b[?25hInstalling collected packages: regex\n",
            "Successfully installed regex-2019.8.19\n",
            "<hashtag> machine lera <allcaps> lon will <smile> love zoo it <hashtag> sicked lee <allcaps> i am <number> to ok\n"
          ],
          "name": "stdout"
        }
      ]
    },
    {
      "cell_type": "markdown",
      "metadata": {
        "id": "_AeAyUmlkF2z",
        "colab_type": "text"
      },
      "source": [
        "# processing data to 'good' text"
      ]
    },
    {
      "cell_type": "code",
      "metadata": {
        "id": "-WVY2qIKVF9d",
        "colab_type": "code",
        "colab": {}
      },
      "source": [
        "\n",
        "goodfile='good_Sentiment Analysis Dataset.csv'\n",
        "badfile='bad_Sentiment Analysis Dataset.csv'\n",
        "x_text, y = processingdata.get_dataset(goodfile, badfile, 1000000)\n"
      ],
      "execution_count": 0,
      "outputs": []
    },
    {
      "cell_type": "code",
      "metadata": {
        "id": "epwjYdvE50Qg",
        "colab_type": "code",
        "outputId": "047d3310-d159-4095-c5e6-bdddf7b1a31c",
        "colab": {
          "base_uri": "https://localhost:8080/",
          "height": 35
        }
      },
      "source": [
        "print(len(x_text))"
      ],
      "execution_count": 0,
      "outputs": [
        {
          "output_type": "stream",
          "text": [
            "1578627\n"
          ],
          "name": "stdout"
        }
      ]
    },
    {
      "cell_type": "markdown",
      "metadata": {
        "id": "CKd3MZe9XXfR",
        "colab_type": "text"
      },
      "source": [
        "\n",
        "# pre_trained data in glove twitter\n"
      ]
    },
    {
      "cell_type": "code",
      "metadata": {
        "id": "k6qMXFeM7tFn",
        "colab_type": "code",
        "outputId": "83d51eaa-a830-49df-c52f-d71cda6483de",
        "colab": {
          "base_uri": "https://localhost:8080/",
          "height": 35
        }
      },
      "source": [
        "\n",
        "your_module = drive.CreateFile({'id':'1OGJqKLf2kIbfWlQd-xzAxgVBk6PDD5Q2'})\n",
        "your_module.GetContentFile('embedding_layer.ipynb')\n",
        "import embedding_layer\n"
      ],
      "execution_count": 0,
      "outputs": [
        {
          "output_type": "stream",
          "text": [
            "importing Jupyter notebook from embedding_layer.ipynb\n"
          ],
          "name": "stdout"
        }
      ]
    },
    {
      "cell_type": "code",
      "metadata": {
        "id": "KoG7K3cdPO_6",
        "colab_type": "code",
        "outputId": "ea4f43fd-d62b-434e-8a72-564ffa31f200",
        "colab": {
          "base_uri": "https://localhost:8080/",
          "height": 35
        }
      },
      "source": [
        "\n",
        "max_document_length = max([len(x.split(\" \")) for x in x_text])\n",
        "print(max_document_length)\n"
      ],
      "execution_count": 0,
      "outputs": [
        {
          "output_type": "stream",
          "text": [
            "229\n"
          ],
          "name": "stdout"
        }
      ]
    },
    {
      "cell_type": "code",
      "metadata": {
        "id": "Y0b9WGD6EOBI",
        "colab_type": "code",
        "colab": {}
      },
      "source": [
        "word_to_index, index_to_word, word_to_vec_map = embedding_layer.read_glove_vecs('glove.twitter.27B.100d.txt')"
      ],
      "execution_count": 0,
      "outputs": []
    },
    {
      "cell_type": "markdown",
      "metadata": {
        "id": "Wp1kWBHn-TYo",
        "colab_type": "text"
      },
      "source": [
        ""
      ]
    },
    {
      "cell_type": "code",
      "metadata": {
        "id": "bXizWFPEIjo-",
        "colab_type": "code",
        "colab": {}
      },
      "source": [
        ""
      ],
      "execution_count": 0,
      "outputs": []
    },
    {
      "cell_type": "code",
      "metadata": {
        "id": "lNgKjpWqPL4C",
        "colab_type": "code",
        "colab": {}
      },
      "source": [
        "X_indices1=embedding_layer.sentense_to_indices(x_text,max_document_length,word_to_index)"
      ],
      "execution_count": 0,
      "outputs": []
    },
    {
      "cell_type": "code",
      "metadata": {
        "id": "cHAI6w5aH5UF",
        "colab_type": "code",
        "colab": {}
      },
      "source": [
        ""
      ],
      "execution_count": 0,
      "outputs": []
    },
    {
      "cell_type": "code",
      "metadata": {
        "id": "Zqk9D-aMF-Z4",
        "colab_type": "code",
        "outputId": "1b449d36-aee2-47aa-bdd3-d73bf20c62ea",
        "colab": {
          "base_uri": "https://localhost:8080/",
          "height": 35
        }
      },
      "source": [
        "print(X_indices1.shape)"
      ],
      "execution_count": 0,
      "outputs": [
        {
          "output_type": "stream",
          "text": [
            "(1578627, 229)\n"
          ],
          "name": "stdout"
        }
      ]
    },
    {
      "cell_type": "code",
      "metadata": {
        "id": "8e7JW_XhJzXH",
        "colab_type": "code",
        "outputId": "b5acc031-5cb6-41c1-8da9-2b6ca9c31321",
        "colab": {
          "base_uri": "https://localhost:8080/",
          "height": 35
        }
      },
      "source": [
        "max_document_length=X_indices1.shape[1]\n",
        "print(max_document_length)"
      ],
      "execution_count": 0,
      "outputs": [
        {
          "output_type": "stream",
          "text": [
            "229\n"
          ],
          "name": "stdout"
        }
      ]
    },
    {
      "cell_type": "markdown",
      "metadata": {
        "id": "AmDVtiZKUfoG",
        "colab_type": "text"
      },
      "source": [
        "# spilt dataset\n"
      ]
    },
    {
      "cell_type": "code",
      "metadata": {
        "id": "yDzdq52C-Iop",
        "colab_type": "code",
        "colab": {}
      },
      "source": [
        "from sklearn.model_selection import train_test_split\n",
        "train_x, test_validation_x, train_y, test_validation_y  = train_test_split(X_indices1, y, test_size=0.2, random_state=2019)\n",
        "val_x, test_x, val_y, test_y = train_test_split(test_validation_x, test_validation_y, test_size=0.5, random_state=2018)"
      ],
      "execution_count": 0,
      "outputs": []
    },
    {
      "cell_type": "markdown",
      "metadata": {
        "id": "IJTUkK9JU_uR",
        "colab_type": "text"
      },
      "source": [
        "# Build model\n"
      ]
    },
    {
      "cell_type": "code",
      "metadata": {
        "id": "gfPGOW3nV4ZD",
        "colab_type": "code",
        "colab": {}
      },
      "source": [
        "import numpy as np\n",
        "np.random.seed(0)\n",
        "from keras.models import Model\n",
        "from keras.layers import Dense, Input, Dropout, LSTM, Activation\n",
        "from keras.layers.embeddings import Embedding\n",
        "from keras.preprocessing import sequence\n",
        "from keras.initializers import glorot_uniform\n",
        "np.random.seed(1)\n",
        "from keras.models import Sequential\n",
        "from keras.layers import Dense\n",
        "from keras.layers import Flatten\n",
        "from keras.layers import GlobalAveragePooling1D,Bidirectional,GlobalMaxPooling1D\n",
        "from keras.layers.convolutional import Convolution1D\n",
        "from keras.layers.convolutional import MaxPooling1D\n",
        "from keras.layers.embeddings import Embedding\n",
        "from keras.layers import LSTM,CuDNNLSTM\n",
        "import keras\n",
        "from keras.layers import Dense, Dropout, Activation\n",
        "from keras.layers import Conv1D, MaxPooling1D"
      ],
      "execution_count": 0,
      "outputs": []
    },
    {
      "cell_type": "code",
      "metadata": {
        "id": "wFjCHN4caJbf",
        "colab_type": "code",
        "colab": {}
      },
      "source": [
        "def pretrained_embedding_layer(word_to_vec_map, word_to_index):\n",
        "  vocab_len=len(word_to_index)+1 # adding 1 to fit Keras embedding (requirement)\n",
        "  embed_dim=100\n",
        "   # Initialize the embedding matrix as a numpy array of zeros of shape (vocab_len, dimensions of word vectors = emb_dim)\n",
        "  emb_matrix = np.zeros((vocab_len, embed_dim))\n",
        "    \n",
        "    # Set each row \"index\" of the embedding matrix to be the word vector representation of the \"index\"th word of the vocabulary\n",
        "  for word, index in word_to_index.items():\n",
        "        emb_matrix[index, :] = word_to_vec_map[word]\n",
        "\n",
        "    # Define Keras embedding layer with the correct output/input sizes, make it trainable. Use Embedding(...). Make sure to set trainable=False. \n",
        "  embedding_layer = Embedding(vocab_len, embed_dim, trainable=False)\n",
        "    ### END CODE HERE ###\n",
        "\n",
        "    # Build the embedding layer, it is required before setting the weights of the embedding layer. Do not modify the \"None\".\n",
        "  embedding_layer.build((None,))\n",
        "    \n",
        "    # Set the weights of the embedding layer to the embedding matrix. Your layer is now pretrained.\n",
        "  embedding_layer.set_weights([emb_matrix])\n",
        "    \n",
        "  return embedding_layer"
      ],
      "execution_count": 0,
      "outputs": []
    },
    {
      "cell_type": "code",
      "metadata": {
        "id": "zsNieSth7qW0",
        "colab_type": "code",
        "colab": {}
      },
      "source": [
        "def sentiment_analysis(input_shape, word_to_vec_map, word_to_index):\n",
        "  sentence_indices = Input(input_shape, dtype='int32')\n",
        "   # Create the embedding layer pretrained with GloVe Vectors (≈1 line)\n",
        "  embed = pretrained_embedding_layer(word_to_vec_map, word_to_index)\n",
        "    \n",
        "    # Propagate sentence_indices through your embedding layer, you get back the embeddings\n",
        "  embeddings = embed(sentence_indices) \n",
        "\n",
        "  x=CuDNNLSTM(units=128, return_sequences=True)(embeddings)\n",
        "  x=Dropout(0.25)(x)\n",
        "  x=CuDNNLSTM(units=128, return_sequences=True)(x)\n",
        "\n",
        "  \n",
        "  x=Conv1D(64,\n",
        "                 3,\n",
        "                 padding='valid',\n",
        "                 activation='relu',\n",
        "                 strides=1)(x)\n",
        "# we use max pooling:\n",
        "  x=GlobalMaxPooling1D()(x)\n",
        "\n",
        "  x=Dense(32)(x)\n",
        "  x=Activation('relu')(x)\n",
        "\n",
        "  x=Dense(1)(x)\n",
        "  x=Activation('sigmoid')(x)\n",
        "  model = Model(inputs=sentence_indices, outputs=x)\n",
        "    \n",
        "\n",
        "  return model\n"
      ],
      "execution_count": 0,
      "outputs": []
    },
    {
      "cell_type": "code",
      "metadata": {
        "id": "TZZYrxGW7qUQ",
        "colab_type": "code",
        "outputId": "0bd5351e-6190-45b3-b1cc-9692b66f5a52",
        "colab": {
          "base_uri": "https://localhost:8080/",
          "height": 956
        }
      },
      "source": [
        "model= sentiment_analysis((max_document_length,), word_to_vec_map, word_to_index)\n",
        "\n",
        "model.summary()"
      ],
      "execution_count": 0,
      "outputs": [
        {
          "output_type": "stream",
          "text": [
            "WARNING:tensorflow:From /usr/local/lib/python3.6/dist-packages/keras/backend/tensorflow_backend.py:66: The name tf.get_default_graph is deprecated. Please use tf.compat.v1.get_default_graph instead.\n",
            "\n",
            "WARNING:tensorflow:From /usr/local/lib/python3.6/dist-packages/keras/backend/tensorflow_backend.py:541: The name tf.placeholder is deprecated. Please use tf.compat.v1.placeholder instead.\n",
            "\n",
            "WARNING:tensorflow:From /usr/local/lib/python3.6/dist-packages/keras/backend/tensorflow_backend.py:4432: The name tf.random_uniform is deprecated. Please use tf.random.uniform instead.\n",
            "\n",
            "WARNING:tensorflow:From /usr/local/lib/python3.6/dist-packages/keras/backend/tensorflow_backend.py:190: The name tf.get_default_session is deprecated. Please use tf.compat.v1.get_default_session instead.\n",
            "\n",
            "WARNING:tensorflow:From /usr/local/lib/python3.6/dist-packages/keras/backend/tensorflow_backend.py:197: The name tf.ConfigProto is deprecated. Please use tf.compat.v1.ConfigProto instead.\n",
            "\n",
            "WARNING:tensorflow:From /usr/local/lib/python3.6/dist-packages/keras/backend/tensorflow_backend.py:203: The name tf.Session is deprecated. Please use tf.compat.v1.Session instead.\n",
            "\n",
            "WARNING:tensorflow:From /usr/local/lib/python3.6/dist-packages/keras/backend/tensorflow_backend.py:207: The name tf.global_variables is deprecated. Please use tf.compat.v1.global_variables instead.\n",
            "\n",
            "WARNING:tensorflow:From /usr/local/lib/python3.6/dist-packages/keras/backend/tensorflow_backend.py:216: The name tf.is_variable_initialized is deprecated. Please use tf.compat.v1.is_variable_initialized instead.\n",
            "\n",
            "WARNING:tensorflow:From /usr/local/lib/python3.6/dist-packages/keras/backend/tensorflow_backend.py:223: The name tf.variables_initializer is deprecated. Please use tf.compat.v1.variables_initializer instead.\n",
            "\n",
            "WARNING:tensorflow:From /usr/local/lib/python3.6/dist-packages/keras/backend/tensorflow_backend.py:148: The name tf.placeholder_with_default is deprecated. Please use tf.compat.v1.placeholder_with_default instead.\n",
            "\n",
            "WARNING:tensorflow:From /usr/local/lib/python3.6/dist-packages/keras/backend/tensorflow_backend.py:3733: calling dropout (from tensorflow.python.ops.nn_ops) with keep_prob is deprecated and will be removed in a future version.\n",
            "Instructions for updating:\n",
            "Please use `rate` instead of `keep_prob`. Rate should be set to `rate = 1 - keep_prob`.\n",
            "Model: \"model_1\"\n",
            "_________________________________________________________________\n",
            "Layer (type)                 Output Shape              Param #   \n",
            "=================================================================\n",
            "input_1 (InputLayer)         (None, 229)               0         \n",
            "_________________________________________________________________\n",
            "embedding_1 (Embedding)      (None, 229, 100)          119351500 \n",
            "_________________________________________________________________\n",
            "cu_dnnlstm_1 (CuDNNLSTM)     (None, 229, 128)          117760    \n",
            "_________________________________________________________________\n",
            "dropout_1 (Dropout)          (None, 229, 128)          0         \n",
            "_________________________________________________________________\n",
            "cu_dnnlstm_2 (CuDNNLSTM)     (None, 229, 128)          132096    \n",
            "_________________________________________________________________\n",
            "conv1d_1 (Conv1D)            (None, 227, 64)           24640     \n",
            "_________________________________________________________________\n",
            "global_max_pooling1d_1 (Glob (None, 64)                0         \n",
            "_________________________________________________________________\n",
            "dense_1 (Dense)              (None, 32)                2080      \n",
            "_________________________________________________________________\n",
            "activation_1 (Activation)    (None, 32)                0         \n",
            "_________________________________________________________________\n",
            "dense_2 (Dense)              (None, 1)                 33        \n",
            "_________________________________________________________________\n",
            "activation_2 (Activation)    (None, 1)                 0         \n",
            "=================================================================\n",
            "Total params: 119,628,109\n",
            "Trainable params: 276,609\n",
            "Non-trainable params: 119,351,500\n",
            "_________________________________________________________________\n"
          ],
          "name": "stdout"
        }
      ]
    },
    {
      "cell_type": "code",
      "metadata": {
        "id": "RDGSU-6E7qRg",
        "colab_type": "code",
        "colab": {}
      },
      "source": [
        "mcp = keras.callbacks.ModelCheckpoint(\"my_model2.h5\", monitor=\"val_acc\",verbose=2,mode='max',\n",
        "                      save_best_only=True)\n",
        "    \n",
        "    # Compile model\n",
        "model.compile(optimizer='adam', loss='binary_crossentropy',\n",
        "                  metrics=['accuracy'])\n",
        "    \n",
        "batch_size=128\n",
        "epochs=20"
      ],
      "execution_count": 0,
      "outputs": []
    },
    {
      "cell_type": "code",
      "metadata": {
        "id": "cxmivaz37qPP",
        "colab_type": "code",
        "outputId": "d56ae526-be05-45ae-df51-8523aee1dd25",
        "colab": {
          "base_uri": "https://localhost:8080/",
          "height": 1000
        }
      },
      "source": [
        "history=model.fit(train_x, train_y,\n",
        "                        batch_size=batch_size,\n",
        "                        epochs=epochs,\n",
        "                        validation_data=(val_x, val_y),callbacks=[mcp])"
      ],
      "execution_count": 0,
      "outputs": [
        {
          "output_type": "stream",
          "text": [
            "Train on 1262901 samples, validate on 157863 samples\n",
            "Epoch 1/20\n",
            "1262901/1262901 [==============================] - 1093s 866us/step - loss: 0.3835 - acc: 0.8267 - val_loss: 0.3683 - val_acc: 0.8349\n",
            "\n",
            "Epoch 00001: val_acc improved from -inf to 0.83494, saving model to my_model2.h5\n",
            "Epoch 2/20\n",
            "1262901/1262901 [==============================] - 1101s 872us/step - loss: 0.3599 - acc: 0.8398 - val_loss: 0.3627 - val_acc: 0.8387\n",
            "\n",
            "Epoch 00002: val_acc improved from 0.83494 to 0.83873, saving model to my_model2.h5\n",
            "Epoch 3/20\n",
            "1262901/1262901 [==============================] - 1104s 874us/step - loss: 0.3463 - acc: 0.8469 - val_loss: 0.3546 - val_acc: 0.8430\n",
            "\n",
            "Epoch 00003: val_acc improved from 0.83873 to 0.84298, saving model to my_model2.h5\n",
            "Epoch 4/20\n",
            "1262901/1262901 [==============================] - 1106s 876us/step - loss: 0.3361 - acc: 0.8522 - val_loss: 0.3514 - val_acc: 0.8452\n",
            "\n",
            "Epoch 00004: val_acc improved from 0.84298 to 0.84519, saving model to my_model2.h5\n",
            "Epoch 5/20\n",
            "1262901/1262901 [==============================] - 1100s 871us/step - loss: 0.3278 - acc: 0.8567 - val_loss: 0.3509 - val_acc: 0.8451\n",
            "\n",
            "Epoch 00005: val_acc did not improve from 0.84519\n",
            "Epoch 6/20\n",
            "1262901/1262901 [==============================] - 1098s 869us/step - loss: 0.3206 - acc: 0.8604 - val_loss: 0.3540 - val_acc: 0.8455\n",
            "\n",
            "Epoch 00006: val_acc improved from 0.84519 to 0.84547, saving model to my_model2.h5\n",
            "Epoch 7/20\n",
            "1262901/1262901 [==============================] - 1097s 869us/step - loss: 0.3141 - acc: 0.8637 - val_loss: 0.3547 - val_acc: 0.8451\n",
            "\n",
            "Epoch 00007: val_acc did not improve from 0.84547\n",
            "Epoch 8/20\n",
            "1262901/1262901 [==============================] - 1105s 875us/step - loss: 0.3086 - acc: 0.8664 - val_loss: 0.3589 - val_acc: 0.8440\n",
            "\n",
            "Epoch 00008: val_acc did not improve from 0.84547\n",
            "Epoch 9/20\n",
            "1262901/1262901 [==============================] - 1105s 875us/step - loss: 0.3034 - acc: 0.8690 - val_loss: 0.3599 - val_acc: 0.8431\n",
            "\n",
            "Epoch 00009: val_acc did not improve from 0.84547\n",
            "Epoch 10/20\n",
            "1262901/1262901 [==============================] - 1099s 870us/step - loss: 0.2996 - acc: 0.8708 - val_loss: 0.3616 - val_acc: 0.8432\n",
            "\n",
            "Epoch 00010: val_acc did not improve from 0.84547\n",
            "Epoch 11/20\n",
            "1262901/1262901 [==============================] - 1096s 868us/step - loss: 0.2953 - acc: 0.8731 - val_loss: 0.3632 - val_acc: 0.8426\n",
            "\n",
            "Epoch 00011: val_acc did not improve from 0.84547\n",
            "Epoch 12/20\n",
            "1262901/1262901 [==============================] - 1099s 870us/step - loss: 0.2916 - acc: 0.8750 - val_loss: 0.3720 - val_acc: 0.8405\n",
            "\n",
            "Epoch 00012: val_acc did not improve from 0.84547\n",
            "Epoch 13/20\n",
            "1262901/1262901 [==============================] - 1095s 867us/step - loss: 0.2876 - acc: 0.8768 - val_loss: 0.3721 - val_acc: 0.8408\n",
            "\n",
            "Epoch 00013: val_acc did not improve from 0.84547\n",
            "Epoch 14/20\n",
            "1262901/1262901 [==============================] - 1095s 867us/step - loss: 0.2850 - acc: 0.8783 - val_loss: 0.3670 - val_acc: 0.8395\n",
            "\n",
            "Epoch 00014: val_acc did not improve from 0.84547\n",
            "Epoch 15/20\n",
            "1262901/1262901 [==============================] - 1098s 869us/step - loss: 0.2819 - acc: 0.8798 - val_loss: 0.3744 - val_acc: 0.8400\n",
            "\n",
            "Epoch 00015: val_acc did not improve from 0.84547\n",
            "Epoch 16/20\n",
            "1262901/1262901 [==============================] - 1092s 864us/step - loss: 0.2790 - acc: 0.8812 - val_loss: 0.3720 - val_acc: 0.8392\n",
            "\n",
            "Epoch 00016: val_acc did not improve from 0.84547\n",
            "Epoch 17/20\n",
            "1262901/1262901 [==============================] - 1089s 863us/step - loss: 0.2813 - acc: 0.8799 - val_loss: 0.3837 - val_acc: 0.8384\n",
            "\n",
            "Epoch 00017: val_acc did not improve from 0.84547\n",
            "Epoch 18/20\n",
            "1262901/1262901 [==============================] - 1085s 859us/step - loss: 0.2739 - acc: 0.8839 - val_loss: 0.3768 - val_acc: 0.8389\n",
            "\n",
            "Epoch 00018: val_acc did not improve from 0.84547\n",
            "Epoch 19/20\n",
            "1262901/1262901 [==============================] - 1086s 860us/step - loss: 0.2931 - acc: 0.8737 - val_loss: 0.3793 - val_acc: 0.8341\n",
            "\n",
            "Epoch 00019: val_acc did not improve from 0.84547\n",
            "Epoch 20/20\n",
            "1262901/1262901 [==============================] - 1087s 861us/step - loss: 0.2998 - acc: 0.8698 - val_loss: 0.3804 - val_acc: 0.8353\n",
            "\n",
            "Epoch 00020: val_acc did not improve from 0.84547\n"
          ],
          "name": "stdout"
        }
      ]
    },
    {
      "cell_type": "code",
      "metadata": {
        "id": "OAD0BIBnhC2G",
        "colab_type": "code",
        "colab": {}
      },
      "source": [
        ""
      ],
      "execution_count": 0,
      "outputs": []
    },
    {
      "cell_type": "code",
      "metadata": {
        "id": "9aphu-SOHWhY",
        "colab_type": "code",
        "outputId": "1801180b-7f1f-44e3-c599-79764133168e",
        "colab": {
          "base_uri": "https://localhost:8080/",
          "height": 573
        }
      },
      "source": [
        "import matplotlib.pyplot as plt\n",
        "\n",
        "plt.plot(history.history['acc'])\n",
        "plt.plot(history.history['val_acc'])\n",
        "plt.title('Model accuracy')\n",
        "plt.ylabel('Accuracy')\n",
        "plt.xlabel('Epoch')\n",
        "plt.legend(['Train', 'Val'], loc='upper left')\n",
        "plt.savefig('books_read1.png')\n",
        "plt.show()\n",
        "\n",
        "\n",
        "# Plot training & validation loss values\n",
        "plt.plot(history.history['loss'])\n",
        "plt.plot(history.history['val_loss'])\n",
        "plt.title('Model loss')\n",
        "plt.ylabel('Loss')\n",
        "plt.xlabel('Epoch')\n",
        "plt.legend(['Train', 'Val'], loc='upper left')\n",
        "plt.savefig('books_read2.png')\n",
        "plt.show()"
      ],
      "execution_count": 0,
      "outputs": [
        {
          "output_type": "display_data",
          "data": {
            "image/png": "[encoded data removed]",
            "text/plain": [
              "<Figure size 432x288 with 1 Axes>"
            ]
          },
          "metadata": {
            "tags": []
          }
        },
        {
          "output_type": "display_data",
          "data": {
            "image/png": "[encoded data removed]",
            "text/plain": [
              "<Figure size 432x288 with 1 Axes>"
            ]
          },
          "metadata": {
            "tags": []
          }
        }
      ]
    },
    {
      "cell_type": "markdown",
      "metadata": {
        "id": "wTa3cx2aWkR7",
        "colab_type": "text"
      },
      "source": [
        "# evaluate the test dataset\n"
      ]
    },
    {
      "cell_type": "code",
      "metadata": {
        "id": "CtD5TSmLGeja",
        "colab_type": "code",
        "colab": {}
      },
      "source": [
        ""
      ],
      "execution_count": 0,
      "outputs": []
    },
    {
      "cell_type": "code",
      "metadata": {
        "id": "TY85U_ENGe5y",
        "colab_type": "code",
        "outputId": "f012dc54-591b-42f3-f6dd-e6bd68f43122",
        "colab": {
          "base_uri": "https://localhost:8080/",
          "height": 124
        }
      },
      "source": [
        "from google.colab import drive\n",
        "drive.mount('/content/drive')"
      ],
      "execution_count": 0,
      "outputs": [
        {
          "output_type": "stream",
          "text": [
            "Go to this URL in a browser: https://accounts.google.com/o/oauth2/auth?client_id=947318989803-6bn6qk8qdgf4n4g3pfee6491hc0brc4i.apps.googleusercontent.com&redirect_uri=urn%3Aietf%3Awg%3Aoauth%3A2.0%3Aoob&scope=email%20https%3A%2F%2Fwww.googleapis.com%2Fauth%2Fdocs.test%20https%3A%2F%2Fwww.googleapis.com%2Fauth%2Fdrive%20https%3A%2F%2Fwww.googleapis.com%2Fauth%2Fdrive.photos.readonly%20https%3A%2F%2Fwww.googleapis.com%2Fauth%2Fpeopleapi.readonly&response_type=code\n",
            "\n",
            "Enter your authorization code:\n",
            "··········\n",
            "Mounted at /content/drive\n"
          ],
          "name": "stdout"
        }
      ]
    },
    {
      "cell_type": "code",
      "metadata": {
        "id": "b8tfkltRGm-v",
        "colab_type": "code",
        "outputId": "198739fd-6871-4be6-e815-7c229dad3827",
        "colab": {
          "base_uri": "https://localhost:8080/",
          "height": 35
        }
      },
      "source": [
        "%cd '/content/drive/My Drive/aominebka991/sentiment analysis twitter project'"
      ],
      "execution_count": 0,
      "outputs": [
        {
          "output_type": "stream",
          "text": [
            "/content/drive/My Drive/aominebka991/sentiment analysis twitter project\n"
          ],
          "name": "stdout"
        }
      ]
    },
    {
      "cell_type": "code",
      "metadata": {
        "id": "JA6mqCo_Tm-O",
        "colab_type": "code",
        "colab": {}
      },
      "source": [
        "from keras.models import load_model\n",
        "saved_model = load_model('my_model2.h5')"
      ],
      "execution_count": 0,
      "outputs": []
    },
    {
      "cell_type": "code",
      "metadata": {
        "id": "7bcDq8cM7qJX",
        "colab_type": "code",
        "outputId": "819cec20-4db4-470a-eacd-b4c941e84ff4",
        "colab": {
          "base_uri": "https://localhost:8080/",
          "height": 69
        }
      },
      "source": [
        "from keras.models import load_model\n",
        "saved_model = load_model('my_model2.h5')\n",
        "# evaluate the model\n",
        "\n",
        "scores = saved_model.evaluate(test_x, test_y, verbose=1,batch_size=256)\n",
        "print('Test loss:', scores[0])\n",
        "print('Test accuracy:', scores[1])"
      ],
      "execution_count": 0,
      "outputs": [
        {
          "output_type": "stream",
          "text": [
            "157863/157863 [==============================] - 32s 202us/step\n",
            "Test loss: 0.3782957815161078\n",
            "Test accuracy: 0.8372132798526406\n"
          ],
          "name": "stdout"
        }
      ]
    },
    {
      "cell_type": "code",
      "metadata": {
        "id": "bWB7AUTS6O27",
        "colab_type": "code",
        "colab": {}
      },
      "source": [
        "def predict_sample(model,lstr,max_document_length,word_to_index,threshold=0.5):\n",
        "  \n",
        "  lstr=[processingdata.clean_str(y) for y in lstr]\n",
        "  lstr_indices=embedding_layer.sentense_to_indices(lstr,max_document_length,word_to_index)\n",
        "  face=model.predict(lstr_indices)\n",
        "\n",
        "  sentiment=[]\n",
        "  for x in face:\n",
        "    if x >= threshold: sentiment.append(1)\n",
        "    else: sentiment.append(0)\n",
        "  return sentiment"
      ],
      "execution_count": 0,
      "outputs": []
    },
    {
      "cell_type": "code",
      "metadata": {
        "id": "d5q7rZ9x6O0n",
        "colab_type": "code",
        "outputId": "c2d44018-13fb-4353-9fc5-6fa2a0c81e69",
        "colab": {
          "base_uri": "https://localhost:8080/",
          "height": 35
        }
      },
      "source": [
        "predict_sample(saved_model,[\"Machine learning is so hard to learn but i still like it\"],max_document_length,word_to_index,threshold=0.5)"
      ],
      "execution_count": 0,
      "outputs": [
        {
          "output_type": "execute_result",
          "data": {
            "text/plain": [
              "[1]"
            ]
          },
          "metadata": {
            "tags": []
          },
          "execution_count": 39
        }
      ]
    },
    {
      "cell_type": "code",
      "metadata": {
        "id": "pbmLq3tb6OyA",
        "colab_type": "code",
        "colab": {}
      },
      "source": [
        ""
      ],
      "execution_count": 0,
      "outputs": []
    },
    {
      "cell_type": "code",
      "metadata": {
        "id": "z-YWq9ec6OvQ",
        "colab_type": "code",
        "colab": {}
      },
      "source": [
        ""
      ],
      "execution_count": 0,
      "outputs": []
    },
    {
      "cell_type": "code",
      "metadata": {
        "id": "HRwnjE1o6Osn",
        "colab_type": "code",
        "colab": {}
      },
      "source": [
        ""
      ],
      "execution_count": 0,
      "outputs": []
    },
    {
      "cell_type": "code",
      "metadata": {
        "id": "qdAQHG8i6OqP",
        "colab_type": "code",
        "colab": {}
      },
      "source": [
        ""
      ],
      "execution_count": 0,
      "outputs": []
    },
    {
      "cell_type": "code",
      "metadata": {
        "id": "CM_8Xq5p6OlL",
        "colab_type": "code",
        "colab": {}
      },
      "source": [
        ""
      ],
      "execution_count": 0,
      "outputs": []
    },
    {
      "cell_type": "code",
      "metadata": {
        "id": "8zQb3NeT6Oig",
        "colab_type": "code",
        "colab": {}
      },
      "source": [
        ""
      ],
      "execution_count": 0,
      "outputs": []
    },
    {
      "cell_type": "code",
      "metadata": {
        "id": "hHsJQX0u6Ofi",
        "colab_type": "code",
        "colab": {}
      },
      "source": [
        ""
      ],
      "execution_count": 0,
      "outputs": []
    },
    {
      "cell_type": "code",
      "metadata": {
        "id": "zKmTAdiCVFo6",
        "colab_type": "code",
        "colab": {}
      },
      "source": [
        ""
      ],
      "execution_count": 0,
      "outputs": []
    },
    {
      "cell_type": "code",
      "metadata": {
        "id": "DI1JDyEMVFmb",
        "colab_type": "code",
        "colab": {}
      },
      "source": [
        ""
      ],
      "execution_count": 0,
      "outputs": []
    },
    {
      "cell_type": "code",
      "metadata": {
        "id": "qxh94WMLVFkO",
        "colab_type": "code",
        "colab": {}
      },
      "source": [
        ""
      ],
      "execution_count": 0,
      "outputs": []
    },
    {
      "cell_type": "code",
      "metadata": {
        "id": "CE0DUg0pVFhq",
        "colab_type": "code",
        "colab": {}
      },
      "source": [
        ""
      ],
      "execution_count": 0,
      "outputs": []
    },
    {
      "cell_type": "code",
      "metadata": {
        "id": "0GsHxvtDVFfL",
        "colab_type": "code",
        "colab": {}
      },
      "source": [
        ""
      ],
      "execution_count": 0,
      "outputs": []
    },
    {
      "cell_type": "code",
      "metadata": {
        "id": "JpeG3cZDVFcq",
        "colab_type": "code",
        "colab": {}
      },
      "source": [
        ""
      ],
      "execution_count": 0,
      "outputs": []
    },
    {
      "cell_type": "code",
      "metadata": {
        "id": "fWR4UydQVFaO",
        "colab_type": "code",
        "colab": {}
      },
      "source": [
        ""
      ],
      "execution_count": 0,
      "outputs": []
    },
    {
      "cell_type": "code",
      "metadata": {
        "id": "MQjmN0SmVFXq",
        "colab_type": "code",
        "colab": {}
      },
      "source": [
        ""
      ],
      "execution_count": 0,
      "outputs": []
    },
    {
      "cell_type": "code",
      "metadata": {
        "id": "EutsOoZ2VFVH",
        "colab_type": "code",
        "colab": {}
      },
      "source": [
        ""
      ],
      "execution_count": 0,
      "outputs": []
    }
  ]
}